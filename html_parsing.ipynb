{
 "cells": [
  {
   "cell_type": "code",
   "execution_count": 7,
   "metadata": {},
   "outputs": [
    {
     "name": "stdout",
     "output_type": "stream",
     "text": [
      "Requirement already satisfied: Scrapy==2.10.0 in /usr/local/python/3.10.8/lib/python3.10/site-packages (from -r requirements.txt (line 1)) (2.10.0)\n",
      "Requirement already satisfied: Twisted>=18.9.0 in /usr/local/python/3.10.8/lib/python3.10/site-packages (from Scrapy==2.10.0->-r requirements.txt (line 1)) (22.10.0)\n",
      "Requirement already satisfied: cryptography>=36.0.0 in /home/codespace/.local/lib/python3.10/site-packages (from Scrapy==2.10.0->-r requirements.txt (line 1)) (41.0.3)\n",
      "Requirement already satisfied: cssselect>=0.9.1 in /usr/local/python/3.10.8/lib/python3.10/site-packages (from Scrapy==2.10.0->-r requirements.txt (line 1)) (1.2.0)\n",
      "Requirement already satisfied: itemloaders>=1.0.1 in /usr/local/python/3.10.8/lib/python3.10/site-packages (from Scrapy==2.10.0->-r requirements.txt (line 1)) (1.1.0)\n",
      "Requirement already satisfied: parsel>=1.5.0 in /usr/local/python/3.10.8/lib/python3.10/site-packages (from Scrapy==2.10.0->-r requirements.txt (line 1)) (1.8.1)\n",
      "Requirement already satisfied: pyOpenSSL>=21.0.0 in /usr/local/python/3.10.8/lib/python3.10/site-packages (from Scrapy==2.10.0->-r requirements.txt (line 1)) (23.2.0)\n",
      "Requirement already satisfied: queuelib>=1.4.2 in /usr/local/python/3.10.8/lib/python3.10/site-packages (from Scrapy==2.10.0->-r requirements.txt (line 1)) (1.6.2)\n",
      "Requirement already satisfied: service-identity>=18.1.0 in /usr/local/python/3.10.8/lib/python3.10/site-packages (from Scrapy==2.10.0->-r requirements.txt (line 1)) (23.1.0)\n",
      "Requirement already satisfied: w3lib>=1.17.0 in /usr/local/python/3.10.8/lib/python3.10/site-packages (from Scrapy==2.10.0->-r requirements.txt (line 1)) (2.1.2)\n",
      "Requirement already satisfied: zope.interface>=5.1.0 in /usr/local/python/3.10.8/lib/python3.10/site-packages (from Scrapy==2.10.0->-r requirements.txt (line 1)) (6.0)\n",
      "Requirement already satisfied: protego>=0.1.15 in /usr/local/python/3.10.8/lib/python3.10/site-packages (from Scrapy==2.10.0->-r requirements.txt (line 1)) (0.3.0)\n",
      "Requirement already satisfied: itemadapter>=0.1.0 in /usr/local/python/3.10.8/lib/python3.10/site-packages (from Scrapy==2.10.0->-r requirements.txt (line 1)) (0.8.0)\n",
      "Requirement already satisfied: setuptools in /home/codespace/.local/lib/python3.10/site-packages (from Scrapy==2.10.0->-r requirements.txt (line 1)) (68.0.0)\n",
      "Requirement already satisfied: packaging in /home/codespace/.local/lib/python3.10/site-packages (from Scrapy==2.10.0->-r requirements.txt (line 1)) (23.1)\n",
      "Requirement already satisfied: tldextract in /usr/local/python/3.10.8/lib/python3.10/site-packages (from Scrapy==2.10.0->-r requirements.txt (line 1)) (3.4.4)\n",
      "Requirement already satisfied: lxml>=4.4.1 in /usr/local/python/3.10.8/lib/python3.10/site-packages (from Scrapy==2.10.0->-r requirements.txt (line 1)) (4.9.3)\n",
      "Requirement already satisfied: PyDispatcher>=2.0.5 in /usr/local/python/3.10.8/lib/python3.10/site-packages (from Scrapy==2.10.0->-r requirements.txt (line 1)) (2.0.7)\n",
      "Requirement already satisfied: cffi>=1.12 in /home/codespace/.local/lib/python3.10/site-packages (from cryptography>=36.0.0->Scrapy==2.10.0->-r requirements.txt (line 1)) (1.15.1)\n",
      "Requirement already satisfied: jmespath>=0.9.5 in /usr/local/python/3.10.8/lib/python3.10/site-packages (from itemloaders>=1.0.1->Scrapy==2.10.0->-r requirements.txt (line 1)) (1.0.1)\n",
      "Requirement already satisfied: attrs>=19.1.0 in /home/codespace/.local/lib/python3.10/site-packages (from service-identity>=18.1.0->Scrapy==2.10.0->-r requirements.txt (line 1)) (23.1.0)\n",
      "Requirement already satisfied: pyasn1 in /usr/local/python/3.10.8/lib/python3.10/site-packages (from service-identity>=18.1.0->Scrapy==2.10.0->-r requirements.txt (line 1)) (0.5.0)\n",
      "Requirement already satisfied: pyasn1-modules in /usr/local/python/3.10.8/lib/python3.10/site-packages (from service-identity>=18.1.0->Scrapy==2.10.0->-r requirements.txt (line 1)) (0.3.0)\n",
      "Requirement already satisfied: constantly>=15.1 in /usr/local/python/3.10.8/lib/python3.10/site-packages (from Twisted>=18.9.0->Scrapy==2.10.0->-r requirements.txt (line 1)) (15.1.0)\n",
      "Requirement already satisfied: incremental>=21.3.0 in /usr/local/python/3.10.8/lib/python3.10/site-packages (from Twisted>=18.9.0->Scrapy==2.10.0->-r requirements.txt (line 1)) (22.10.0)\n",
      "Requirement already satisfied: Automat>=0.8.0 in /usr/local/python/3.10.8/lib/python3.10/site-packages (from Twisted>=18.9.0->Scrapy==2.10.0->-r requirements.txt (line 1)) (22.10.0)\n",
      "Requirement already satisfied: hyperlink>=17.1.1 in /usr/local/python/3.10.8/lib/python3.10/site-packages (from Twisted>=18.9.0->Scrapy==2.10.0->-r requirements.txt (line 1)) (21.0.0)\n",
      "Requirement already satisfied: typing-extensions>=3.6.5 in /home/codespace/.local/lib/python3.10/site-packages (from Twisted>=18.9.0->Scrapy==2.10.0->-r requirements.txt (line 1)) (4.7.1)\n",
      "Requirement already satisfied: idna in /home/codespace/.local/lib/python3.10/site-packages (from tldextract->Scrapy==2.10.0->-r requirements.txt (line 1)) (3.4)\n",
      "Requirement already satisfied: requests>=2.1.0 in /home/codespace/.local/lib/python3.10/site-packages (from tldextract->Scrapy==2.10.0->-r requirements.txt (line 1)) (2.31.0)\n",
      "Requirement already satisfied: requests-file>=1.4 in /usr/local/python/3.10.8/lib/python3.10/site-packages (from tldextract->Scrapy==2.10.0->-r requirements.txt (line 1)) (1.5.1)\n",
      "Requirement already satisfied: filelock>=3.0.8 in /home/codespace/.local/lib/python3.10/site-packages (from tldextract->Scrapy==2.10.0->-r requirements.txt (line 1)) (3.12.2)\n",
      "Requirement already satisfied: six in /home/codespace/.local/lib/python3.10/site-packages (from Automat>=0.8.0->Twisted>=18.9.0->Scrapy==2.10.0->-r requirements.txt (line 1)) (1.16.0)\n",
      "Requirement already satisfied: pycparser in /home/codespace/.local/lib/python3.10/site-packages (from cffi>=1.12->cryptography>=36.0.0->Scrapy==2.10.0->-r requirements.txt (line 1)) (2.21)\n",
      "Requirement already satisfied: charset-normalizer<4,>=2 in /home/codespace/.local/lib/python3.10/site-packages (from requests>=2.1.0->tldextract->Scrapy==2.10.0->-r requirements.txt (line 1)) (3.2.0)\n",
      "Requirement already satisfied: urllib3<3,>=1.21.1 in /home/codespace/.local/lib/python3.10/site-packages (from requests>=2.1.0->tldextract->Scrapy==2.10.0->-r requirements.txt (line 1)) (2.0.4)\n",
      "Requirement already satisfied: certifi>=2017.4.17 in /home/codespace/.local/lib/python3.10/site-packages (from requests>=2.1.0->tldextract->Scrapy==2.10.0->-r requirements.txt (line 1)) (2023.7.22)\n"
     ]
    }
   ],
   "source": [
    "# If you haven't already created an activated a virtual environment for this notebook, run this cell\n",
    "!python3 -m venv venv\n",
    "!source venv/bin/activate\n",
    "!pip install -r requirements.txt"
   ]
  },
  {
   "cell_type": "code",
   "execution_count": 8,
   "metadata": {},
   "outputs": [],
   "source": [
    "import scrapy\n",
    "import os\n",
    "current_dir = os.path.abspath('')\n",
    "url = os.path.join(current_dir, \"html/1992_World_Junior_Championships_in_Athletics_–_Men's_high_jump\")\n",
    "with open(url) as _f:\n",
    "    url_data = _f.read()\n",
    "\n",
    "response = scrapy.http.TextResponse(url, body=url_data, encoding='utf-8')"
   ]
  },
  {
   "cell_type": "code",
   "execution_count": 9,
   "metadata": {},
   "outputs": [
    {
     "name": "stdout",
     "output_type": "stream",
     "text": [
      "Gold Steve Smith\n",
      "Silver Tim Forsyth\n",
      "Bronze Takahiro Kimino\n"
     ]
    }
   ],
   "source": [
    "# Make sure that the interesting data is available \n",
    "table = response.xpath('//table')[1].xpath('tbody')\n",
    "for tr in table.xpath('tr'):\n",
    "    print(tr.xpath('td/b/text()').extract()[0],\n",
    "          tr.xpath('td/a/text()').extract()[0]\n",
    "    )"
   ]
  }
 ],
 "metadata": {
  "kernelspec": {
   "display_name": "Python 3",
   "language": "python",
   "name": "python3"
  },
  "language_info": {
   "codemirror_mode": {
    "name": "ipython",
    "version": 3
   },
   "file_extension": ".py",
   "mimetype": "text/x-python",
   "name": "python",
   "nbconvert_exporter": "python",
   "pygments_lexer": "ipython3",
   "version": "3.10.8"
  },
  "orig_nbformat": 4
 },
 "nbformat": 4,
 "nbformat_minor": 2
}
